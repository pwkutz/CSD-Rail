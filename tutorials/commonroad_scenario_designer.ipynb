{
 "cells": [
  {
   "cell_type": "code",
   "metadata": {
    "collapsed": true,
    "pycharm": {
     "name": "#%%\n"
    },
    "ExecuteTime": {
     "end_time": "2024-03-19T14:43:02.906300Z",
     "start_time": "2024-03-19T14:43:02.899325Z"
    }
   },
   "source": [
    "# CommonRoad Scenario Designer Tutorial\n",
    "This tutorial shows how to use the map conversion APIs of the CommonRoad Scenario Designer."
   ],
   "execution_count": 2,
   "outputs": [
    {
     "ename": "SyntaxError",
     "evalue": "invalid syntax (2175663092.py, line 2)",
     "output_type": "error",
     "traceback": [
      "\u001B[0;36m  Cell \u001B[0;32mIn[2], line 2\u001B[0;36m\u001B[0m\n\u001B[0;31m    This tutorial shows how to use the map conversion APIs of the CommonRoad Scenario Designer.\u001B[0m\n\u001B[0m         ^\u001B[0m\n\u001B[0;31mSyntaxError\u001B[0m\u001B[0;31m:\u001B[0m invalid syntax\n"
     ]
    }
   ]
  },
  {
   "cell_type": "markdown",
   "metadata": {
    "pycharm": {
     "name": "#%% md\n"
    }
   },
   "source": [
    "## 1. Preparation\n",
    "Before you proceed any further, make sure you have successfully installed the CommonRoad Scenario Designer\n",
    "(cf. [README](https://gitlab.lrz.de/tum-cps/commonroad-scenario-designer/-/blob/main/README.md))."
   ]
  },
  {
   "cell_type": "code",
   "execution_count": 3,
   "metadata": {
    "pycharm": {
     "name": "#%%\n"
    },
    "ExecuteTime": {
     "end_time": "2024-03-19T14:43:05.214969Z",
     "start_time": "2024-03-19T14:43:05.066047Z"
    }
   },
   "outputs": [],
   "source": [
    "# General Imports\n",
    "import os\n",
    "from lxml import etree\n",
    "\n",
    "from commonroad.scenario.scenario import Tag\n",
    "from commonroad.common.file_writer import CommonRoadFileWriter, OverwriteExistingFile\n",
    "from commonroad.planning.planning_problem import PlanningProblemSet\n",
    "from commonroad.common.file_reader import CommonRoadFileReader"
   ]
  },
  {
   "cell_type": "markdown",
   "metadata": {
    "pycharm": {
     "name": "#%% md\n"
    }
   },
   "source": [
    "## 2. OSM to CommonRoad\n",
    "### Download Map"
   ]
  },
  {
   "cell_type": "code",
   "execution_count": 4,
   "metadata": {
    "pycharm": {
     "name": "#%%\n"
    },
    "ExecuteTime": {
     "end_time": "2024-03-19T14:43:06.431294Z",
     "start_time": "2024-03-19T14:43:06.409776Z"
    }
   },
   "outputs": [
    {
     "ename": "ImportError",
     "evalue": "cannot import name 'config' from 'crdesigner.map_conversion.osm2cr' (/Users/philippkutz/Desktop/Weiterbildung/TUM/RCI_WS_23_24/Guided_Research/commonroad-scenario-designer_RAIL/crdesigner/map_conversion/osm2cr/__init__.py)",
     "output_type": "error",
     "traceback": [
      "\u001B[0;31m---------------------------------------------------------------------------\u001B[0m",
      "\u001B[0;31mImportError\u001B[0m                               Traceback (most recent call last)",
      "Cell \u001B[0;32mIn[4], line 2\u001B[0m\n\u001B[1;32m      1\u001B[0m \u001B[38;5;28;01mfrom\u001B[39;00m \u001B[38;5;21;01mcrdesigner\u001B[39;00m\u001B[38;5;21;01m.\u001B[39;00m\u001B[38;5;21;01mmap_conversion\u001B[39;00m\u001B[38;5;21;01m.\u001B[39;00m\u001B[38;5;21;01mosm2cr\u001B[39;00m\u001B[38;5;21;01m.\u001B[39;00m\u001B[38;5;21;01mconverter_modules\u001B[39;00m\u001B[38;5;21;01m.\u001B[39;00m\u001B[38;5;21;01mosm_operations\u001B[39;00m\u001B[38;5;21;01m.\u001B[39;00m\u001B[38;5;21;01mdownloader\u001B[39;00m \u001B[38;5;28;01mimport\u001B[39;00m download_around_map\n\u001B[0;32m----> 2\u001B[0m \u001B[38;5;28;01mfrom\u001B[39;00m \u001B[38;5;21;01mcrdesigner\u001B[39;00m\u001B[38;5;21;01m.\u001B[39;00m\u001B[38;5;21;01mmap_conversion\u001B[39;00m\u001B[38;5;21;01m.\u001B[39;00m\u001B[38;5;21;01mosm2cr\u001B[39;00m \u001B[38;5;28;01mimport\u001B[39;00m config\n\u001B[1;32m      4\u001B[0m download_around_map(config\u001B[38;5;241m.\u001B[39mBENCHMARK_ID \u001B[38;5;241m+\u001B[39m \u001B[38;5;124m'\u001B[39m\u001B[38;5;124m_downloaded.osm\u001B[39m\u001B[38;5;124m'\u001B[39m, \u001B[38;5;241m48.140289\u001B[39m, \u001B[38;5;241m11.566272\u001B[39m)\n",
      "\u001B[0;31mImportError\u001B[0m: cannot import name 'config' from 'crdesigner.map_conversion.osm2cr' (/Users/philippkutz/Desktop/Weiterbildung/TUM/RCI_WS_23_24/Guided_Research/commonroad-scenario-designer_RAIL/crdesigner/map_conversion/osm2cr/__init__.py)"
     ]
    }
   ],
   "source": [
    "from crdesigner.map_conversion.osm2cr.converter_modules.osm_operations.downloader import download_around_map\n",
    "from crdesigner.map_conversion.osm2cr import config\n",
    "\n",
    "download_around_map(config.BENCHMARK_ID + '_downloaded.osm', 48.140289, 11.566272)"
   ]
  },
  {
   "cell_type": "markdown",
   "metadata": {
    "pycharm": {
     "name": "#%% md\n"
    }
   },
   "source": [
    "### General API"
   ]
  },
  {
   "cell_type": "code",
   "execution_count": 5,
   "outputs": [
    {
     "name": "stderr",
     "output_type": "stream",
     "text": [
      "19-Mar-24 15:43:09 - WARNING - Cannot import SUMO. SUMO simulation will not be offered in Scenario Designer GUI. The GUI and other map conversions should work.\n",
      "19-Mar-24 15:43:09 - INFO - reading File and creating graph\n",
      "19-Mar-24 15:43:09 - INFO - extract main layer\n",
      "19-Mar-24 15:43:09 - INFO - 99 roads found\n",
      "19-Mar-24 15:43:09 - INFO - 402 required nodes found\n",
      "19-Mar-24 15:43:09 - WARNING - unknown id '28320413' for restriction element. skipping restriction\n",
      "19-Mar-24 15:43:09 - WARNING - unknown id '24969088' for restriction element. skipping restriction\n",
      "19-Mar-24 15:43:09 - WARNING - unknown id '416075077' for restriction element. skipping restriction\n",
      "19-Mar-24 15:43:09 - INFO - merging close intersections\n",
      "19-Mar-24 15:43:09 - INFO - linking lanes\n",
      "19-Mar-24 15:43:09 - INFO - interpolating waypoints\n",
      "19-Mar-24 15:43:10 - INFO - offsetting roads\n",
      "19-Mar-24 15:43:10 - INFO - cropping roads at intersections\n",
      "19-Mar-24 15:43:10 - INFO - applying traffic signs to edges and nodes\n",
      "19-Mar-24 15:43:10 - INFO - applying traffic lights to edges\n",
      "19-Mar-24 15:43:10 - INFO - creating waypoints of lanes\n",
      "19-Mar-24 15:43:10 - INFO - creating segments at intersections\n",
      "19-Mar-24 15:43:10 - INFO - clustering segments\n",
      "19-Mar-24 15:43:10 - INFO - changing to desired interpolation distance and creating borders of lanes\n",
      "19-Mar-24 15:43:10 - INFO - filtering points\n"
     ]
    },
    {
     "name": "stdout",
     "output_type": "stream",
     "text": [
      "mapillary Device ID is not set\n"
     ]
    },
    {
     "name": "stderr",
     "output_type": "stream",
     "text": [
      "19-Mar-24 15:43:13 - INFO - deleting invalid lanes\n",
      "19-Mar-24 15:43:13 - INFO - adjust common bound points\n",
      "19-Mar-24 15:43:13 - INFO - done converting\n",
      "/Users/philippkutz/Desktop/Weiterbildung/TUM/RCI_WS_23_24/Guided_Research/commonroad-scenario-designer_RAIL/crdesigner/map_conversion/osm2cr/converter_modules/intermediate_operations/intermediate_format/_intermediate_edge.py:82: UserWarning: Lanelet 439 invalid\n",
      "  warnings.warn(\"Lanelet \" + str(lanelet.lanelet_id) + \" invalid\")\n",
      "19-Mar-24 15:43:13 - INFO - smoothening all lanelets of the scenario\n"
     ]
    },
    {
     "name": "stdout",
     "output_type": "stream",
     "text": [
      "osm_graph-->nodes 99\n",
      "osm_graph-->edges 121\n",
      "osm_graph-->lanelinks 122\n",
      "osm_graph-->center_point 2\n",
      "osm_graph-->bounds 4\n",
      "osm_graph-->traffic_signs 99\n",
      "osm_graph-->traffic_lights 63\n",
      "scenario-->scenario_id ZAM_Test-1_1_T-1\n",
      "scenario-->not used id 1\n",
      "scenario-->lanelet_network._information MapInformation with commonroad version 2023a, map_id map_id, date Year 2024, month 3, day 19, hour 15, minute 43, author author, affiliation affiliation, source source, licence name licence_name and licence text \n",
      "scenario-->lanelet_network.lanelets 243\n",
      "scenario-->lanelet_network._buffered_polygons 243\n",
      "scenario-->lanelet_network._strtee 243\n",
      "scenario-->lanelet_network._intersections 44\n",
      "scenario-->lanelet_network._strtee 243\n",
      "scenario-->lanelet_network._strtee 243\n",
      "scenario-->lanelet_network._traffic_lights 60\n",
      "scenario-->lanelet_network.traffic_signs 99\n",
      "scenario-->lanelet_network.areas 0\n",
      "scenario-->_static_obstacles 0\n",
      "scenario-->_dynamic_obstacles 0\n",
      "scenario-->_environment_obstacle 0\n",
      "scenario-->_phantom_obstacle 0\n",
      "scenario-->id_set 515\n"
     ]
    },
    {
     "name": "stderr",
     "output_type": "stream",
     "text": [
      "19-Mar-24 15:43:13 - WARNING - Default location will be written to xml!\n"
     ]
    },
    {
     "name": "stdout",
     "output_type": "stream",
     "text": [
      "Replace file conversion_examples/lausanne_hbf_metro.xml\n"
     ]
    }
   ],
   "source": [
    "from commonroad.scenario.scenario import Location\n",
    "from crdesigner.map_conversion.map_conversion_interface import osm_to_commonroad\n",
    "\n",
    "# load OpenStreetMap (OSM) file, parse it, and convert it to a CommonRoad scenario\n",
    "# scenario = osm_to_commonroad(config.SAVE_PATH + config.BENCHMARK_ID + \".osm\")\n",
    "scenario = osm_to_commonroad('conversion_examples/lausanne_hbf_metro.osm')\n",
    "\n",
    "# store converted file as CommonRoad scenario\n",
    "# store converted file as CommonRoad scenario\n",
    "writer = CommonRoadFileWriter(\n",
    "    scenario=scenario,\n",
    "    planning_problem_set=PlanningProblemSet(),\n",
    "    author=\"Sebastian Maierhofer\",\n",
    "    affiliation=\"Technical University of Munich\",\n",
    "    source=\"CommonRoad Scenario Designer\",\n",
    "    tags={Tag.URBAN},\n",
    ")\n",
    "writer.write_to_file('conversion_examples/lausanne_hbf_metro.xml',\n",
    "                     OverwriteExistingFile.ALWAYS)"
   ],
   "metadata": {
    "collapsed": false,
    "ExecuteTime": {
     "end_time": "2024-03-19T14:43:14.091267Z",
     "start_time": "2024-03-19T14:43:08.515825Z"
    }
   }
  },
  {
   "cell_type": "markdown",
   "metadata": {
    "pycharm": {
     "name": "#%% md\n"
    }
   },
   "source": [
    "### OSM conversion APIs"
   ]
  },
  {
   "cell_type": "code",
   "execution_count": 6,
   "metadata": {
    "pycharm": {
     "name": "#%%\n"
    },
    "ExecuteTime": {
     "end_time": "2024-03-03T22:28:29.700854Z",
     "start_time": "2024-03-03T22:28:29.680548Z"
    }
   },
   "outputs": [
    {
     "ename": "NameError",
     "evalue": "name 'config' is not defined",
     "output_type": "error",
     "traceback": [
      "\u001B[0;31m---------------------------------------------------------------------------\u001B[0m",
      "\u001B[0;31mNameError\u001B[0m                                 Traceback (most recent call last)",
      "Cell \u001B[0;32mIn[6], line 6\u001B[0m\n\u001B[1;32m      2\u001B[0m \u001B[38;5;28;01mimport\u001B[39;00m \u001B[38;5;21;01mcrdesigner\u001B[39;00m\u001B[38;5;21;01m.\u001B[39;00m\u001B[38;5;21;01mmap_conversion\u001B[39;00m\u001B[38;5;21;01m.\u001B[39;00m\u001B[38;5;21;01mosm2cr\u001B[39;00m\u001B[38;5;21;01m.\u001B[39;00m\u001B[38;5;21;01mconverter_modules\u001B[39;00m\u001B[38;5;21;01m.\u001B[39;00m\u001B[38;5;21;01mcr_operations\u001B[39;00m\u001B[38;5;21;01m.\u001B[39;00m\u001B[38;5;21;01mexport\u001B[39;00m \u001B[38;5;28;01mas\u001B[39;00m \u001B[38;5;21;01mex\u001B[39;00m\n\u001B[1;32m      5\u001B[0m \u001B[38;5;66;03m# open the map and convert it to a scenario\u001B[39;00m\n\u001B[0;32m----> 6\u001B[0m scenario \u001B[38;5;241m=\u001B[39m converter\u001B[38;5;241m.\u001B[39mGraphScenario(\u001B[43mconfig\u001B[49m\u001B[38;5;241m.\u001B[39mSAVE_PATH \u001B[38;5;241m+\u001B[39m config\u001B[38;5;241m.\u001B[39mBENCHMARK_ID \u001B[38;5;241m+\u001B[39m \u001B[38;5;124m\"\u001B[39m\u001B[38;5;124m_downloaded.osm\u001B[39m\u001B[38;5;124m\"\u001B[39m)\n\u001B[1;32m      8\u001B[0m \u001B[38;5;66;03m# draw and show the scenario\u001B[39;00m\n\u001B[1;32m      9\u001B[0m scenario\u001B[38;5;241m.\u001B[39mplot()\n",
      "\u001B[0;31mNameError\u001B[0m: name 'config' is not defined"
     ]
    }
   ],
   "source": [
    "import crdesigner.map_conversion.osm2cr.converter_modules.converter as converter\n",
    "import crdesigner.map_conversion.osm2cr.converter_modules.cr_operations.export as ex\n",
    "\n",
    "\n",
    "# open the map and convert it to a scenario\n",
    "scenario = converter.GraphScenario(config.SAVE_PATH + config.BENCHMARK_ID + \"_downloaded.osm\")\n",
    "\n",
    "# draw and show the scenario\n",
    "scenario.plot()\n",
    "\n",
    "# save the scenario as commonroad file\n",
    "scenario.save_as_cr(config.SAVE_PATH + config.BENCHMARK_ID + \".xml\")\n",
    "# save the scenario as a binary\n",
    "scenario.save_to_file(config.SAVE_PATH + config.BENCHMARK_ID + \".pickle\")\n",
    "\n",
    "# view the generated\n",
    "ex.view_xml(config.SAVE_PATH + config.BENCHMARK_ID + \".xml\")"
   ]
  },
  {
   "cell_type": "markdown",
   "metadata": {},
   "source": [
    "## 3. OpenDRIVE to CommonRoad"
   ]
  },
  {
   "cell_type": "code",
   "execution_count": 19,
   "metadata": {
    "pycharm": {
     "name": "#%%\n"
    },
    "ExecuteTime": {
     "end_time": "2023-11-15T12:42:25.144309Z",
     "start_time": "2023-11-15T12:42:25.142514Z"
    }
   },
   "outputs": [],
   "source": [
    "input_path = \"\"  # replace empty string"
   ]
  },
  {
   "cell_type": "markdown",
   "metadata": {
    "pycharm": {
     "name": "#%% md\n"
    }
   },
   "source": [
    "### General API"
   ]
  },
  {
   "cell_type": "code",
   "execution_count": 5,
   "metadata": {
    "pycharm": {
     "name": "#%%\n"
    },
    "ExecuteTime": {
     "end_time": "2024-03-03T22:28:01.267838Z",
     "start_time": "2024-03-03T22:28:01.193560Z"
    }
   },
   "outputs": [
    {
     "ename": "NameError",
     "evalue": "name 'input_path' is not defined",
     "output_type": "error",
     "traceback": [
      "\u001B[0;31m---------------------------------------------------------------------------\u001B[0m",
      "\u001B[0;31mNameError\u001B[0m                                 Traceback (most recent call last)",
      "Cell \u001B[0;32mIn[5], line 4\u001B[0m\n\u001B[1;32m      1\u001B[0m \u001B[38;5;28;01mfrom\u001B[39;00m \u001B[38;5;21;01mcrdesigner\u001B[39;00m\u001B[38;5;21;01m.\u001B[39;00m\u001B[38;5;21;01mmap_conversion\u001B[39;00m\u001B[38;5;21;01m.\u001B[39;00m\u001B[38;5;21;01mmap_conversion_interface\u001B[39;00m \u001B[38;5;28;01mimport\u001B[39;00m opendrive_to_commonroad\n\u001B[1;32m      3\u001B[0m \u001B[38;5;66;03m# load OpenDRIVE file, parse it, and convert it to a CommonRoad scenario\u001B[39;00m\n\u001B[0;32m----> 4\u001B[0m scenario \u001B[38;5;241m=\u001B[39m opendrive_to_commonroad(\u001B[43minput_path\u001B[49m)\n\u001B[1;32m      6\u001B[0m \u001B[38;5;66;03m# store converted file as CommonRoad scenario\u001B[39;00m\n\u001B[1;32m      7\u001B[0m writer \u001B[38;5;241m=\u001B[39m CommonRoadFileWriter(\n\u001B[1;32m      8\u001B[0m     scenario\u001B[38;5;241m=\u001B[39mscenario,\n\u001B[1;32m      9\u001B[0m     planning_problem_set\u001B[38;5;241m=\u001B[39mPlanningProblemSet(),\n\u001B[0;32m   (...)\u001B[0m\n\u001B[1;32m     13\u001B[0m     tags\u001B[38;5;241m=\u001B[39m{Tag\u001B[38;5;241m.\u001B[39mURBAN},\n\u001B[1;32m     14\u001B[0m )\n",
      "\u001B[0;31mNameError\u001B[0m: name 'input_path' is not defined"
     ]
    }
   ],
   "source": [
    "from crdesigner.map_conversion.map_conversion_interface import opendrive_to_commonroad\n",
    "\n",
    "# load OpenDRIVE file, parse it, and convert it to a CommonRoad scenario\n",
    "scenario = opendrive_to_commonroad(input_path)\n",
    "\n",
    "# store converted file as CommonRoad scenario\n",
    "writer = CommonRoadFileWriter(\n",
    "    scenario=scenario,\n",
    "    planning_problem_set=PlanningProblemSet(),\n",
    "    author=\"Sebastian Maierhofer\",\n",
    "    affiliation=\"Technical University of Munich\",\n",
    "    source=\"CommonRoad Scenario Designer\",\n",
    "    tags={Tag.URBAN},\n",
    ")\n",
    "writer.write_to_file(os.path.dirname(os.path.realpath(__file__)) + \"/\" + \"ZAM_OpenDRIVETest-1_1-T1.xml\",\n",
    "                     OverwriteExistingFile.ALWAYS)"
   ]
  },
  {
   "cell_type": "markdown",
   "metadata": {
    "pycharm": {
     "name": "#%% md\n"
    }
   },
   "source": [
    "### OpenDRIVE conversion APIs"
   ]
  },
  {
   "cell_type": "code",
   "execution_count": null,
   "metadata": {
    "pycharm": {
     "name": "#%%\n"
    }
   },
   "outputs": [],
   "source": [
    "from crdesigner.map_conversion.opendrive.opendrive_parser.parser import parse_opendrive\n",
    "from crdesigner.map_conversion.opendrive.opendrive_conversion.network import Network\n",
    "\n",
    "# OpenDRIVE parser to load file\n",
    "with open(\"{}\".format(input_path), \"r\") as file_in:\n",
    "    opendrive = parse_opendrive(etree.parse(file_in).getroot())\n",
    "\n",
    "# create OpenDRIVE intermediate network object\n",
    "road_network = Network()\n",
    "\n",
    "# convert OpenDRIVE file\n",
    "road_network.load_opendrive(opendrive)\n",
    "\n",
    "# export to CommonRoad scenario\n",
    "scenario = road_network.export_commonroad_scenario()\n",
    "\n",
    "# store converted file as CommonRoad scenario\n",
    "writer = CommonRoadFileWriter(\n",
    "    scenario=scenario,\n",
    "    planning_problem_set=PlanningProblemSet(),\n",
    "    author=\"Sebastian Maierhofer\",\n",
    "    affiliation=\"Technical University of Munich\",\n",
    "    source=\"CommonRoad Scenario Designer\",\n",
    "    tags={Tag.URBAN},\n",
    ")\n",
    "writer.write_to_file(os.path.dirname(os.path.realpath(__file__)) + \"/\" + \"ZAM_OpenDRIVETest-1_1-T1.xml\",\n",
    "                     OverwriteExistingFile.ALWAYS)"
   ]
  },
  {
   "cell_type": "markdown",
   "metadata": {},
   "source": [
    "## 4. Lanelet/Lanelet2 to CommonRoad and CommonRoad to Lanelet"
   ]
  },
  {
   "cell_type": "code",
   "execution_count": null,
   "metadata": {
    "pycharm": {
     "name": "#%%\n"
    }
   },
   "outputs": [],
   "source": [
    "input_path = \"\"  # replace empty string\n",
    "proj = \"\"  # replace empty string\n",
    "left_driving = False  # replace with favoured value\n",
    "adjacencies = False  # replace with favoured value"
   ]
  },
  {
   "cell_type": "markdown",
   "metadata": {
    "pycharm": {
     "name": "#%% md\n"
    }
   },
   "source": [
    "### General API"
   ]
  },
  {
   "cell_type": "code",
   "execution_count": null,
   "metadata": {
    "pycharm": {
     "name": "#%%\n"
    }
   },
   "outputs": [],
   "source": [
    "from crdesigner.map_conversion.map_conversion_interface import lanelet_to_commonroad\n",
    "\n",
    "scenario = lanelet_to_commonroad(input_path, proj, left_driving, adjacencies)\n",
    "\n",
    "# store converted file as CommonRoad scenario\n",
    "writer = CommonRoadFileWriter(\n",
    "    scenario=scenario,\n",
    "    planning_problem_set=PlanningProblemSet(),\n",
    "    author=\"Sebastian Maierhofer\",\n",
    "    affiliation=\"Technical University of Munich\",\n",
    "    source=\"CommonRoad Scenario Designer\",\n",
    "    tags={Tag.URBAN},\n",
    ")\n",
    "writer.write_to_file(os.path.dirname(os.path.realpath(__file__)) + \"/\" + \"ZAM_Lanelet-1_1-T1.xml\",\n",
    "                     OverwriteExistingFile.ALWAYS)"
   ]
  },
  {
   "cell_type": "markdown",
   "metadata": {
    "pycharm": {
     "name": "#%% md\n"
    }
   },
   "source": [
    "### Lanelet conversion APIs"
   ]
  },
  {
   "cell_type": "code",
   "execution_count": null,
   "metadata": {
    "pycharm": {
     "name": "#%%\n"
    }
   },
   "outputs": [],
   "source": [
    "from crdesigner.map_conversion.lanelet2.lanelet2cr import Lanelet2CRConverter\n",
    "from crdesigner.map_conversion.lanelet2.lanelet2_parser import Lanelet2Parser\n",
    "\n",
    "# read and parse lanelet/lanelet2 file\n",
    "parser = Lanelet2Parser(etree.parse(input_path).getroot())\n",
    "lanelet2_content = parser.parse()\n",
    "\n",
    "# convert lanelet/lanelet2 map to CommonRoad\n",
    "lanelet2_converter = Lanelet2CRConverter(proj_string=proj)\n",
    "scenario = lanelet2_converter(lanelet2_content, detect_adjacencies=adjacencies, left_driving_system=left_driving)\n",
    "\n",
    "# store converted file as CommonRoad scenario\n",
    "writer = CommonRoadFileWriter(\n",
    "    scenario=scenario,\n",
    "    planning_problem_set=PlanningProblemSet(),\n",
    "    author=\"Sebastian Maierhofer\",\n",
    "    affiliation=\"Technical University of Munich\",\n",
    "    source=\"CommonRoad Scenario Designer\",\n",
    "    tags={Tag.URBAN},\n",
    ")\n",
    "writer.write_to_file(os.path.dirname(os.path.realpath(__file__)) + \"/\" + \"ZAM_Lanelet-1_1-T1.xml\",\n",
    "                     OverwriteExistingFile.ALWAYS)"
   ]
  },
  {
   "cell_type": "markdown",
   "metadata": {
    "pycharm": {
     "name": "#%% md\n"
    }
   },
   "source": [
    "## 5. CommonRoad to Lanelet"
   ]
  },
  {
   "cell_type": "code",
   "execution_count": null,
   "metadata": {
    "pycharm": {
     "name": "#%%\n"
    }
   },
   "outputs": [],
   "source": [
    "input_path = \"\"  # replace empty string\n",
    "output_name = \"\"  # replace empty string\n",
    "proj = \"\"  # replace empty string"
   ]
  },
  {
   "cell_type": "markdown",
   "metadata": {
    "pycharm": {
     "name": "#%% md\n"
    }
   },
   "source": [
    "### General API"
   ]
  },
  {
   "cell_type": "code",
   "execution_count": null,
   "metadata": {
    "pycharm": {
     "name": "#%%\n"
    }
   },
   "outputs": [],
   "source": [
    "from crdesigner.map_conversion.map_conversion_interface import commonroad_to_lanelet\n",
    "\n",
    "# load CommonRoad file and convert it to lanelet format\n",
    "commonroad_to_lanelet(input_path, output_name, proj)"
   ]
  },
  {
   "cell_type": "markdown",
   "metadata": {
    "pycharm": {
     "name": "#%% md\n"
    }
   },
   "source": [
    "### Lanelet conversion APIs"
   ]
  },
  {
   "cell_type": "code",
   "execution_count": null,
   "metadata": {
    "pycharm": {
     "name": "#%%\n"
    }
   },
   "outputs": [],
   "source": [
    "from crdesigner.map_conversion.lanelet2.cr2lanelet import CR2LaneletConverter\n",
    "\n",
    "try:\n",
    "    commonroad_reader = CommonRoadFileReader(input_path)\n",
    "    scenario, _ = commonroad_reader.open()\n",
    "except etree.XMLSyntaxError as xml_error:\n",
    "    print(f\"SyntaxError: {xml_error}\")\n",
    "    print(\"There was an error during the loading of the selected CommonRoad file.\\n\")\n",
    "    scenario = None\n",
    "\n",
    "if scenario:\n",
    "    l2osm = CR2LaneletConverter(proj)\n",
    "    osm = l2osm(scenario)\n",
    "    with open(f\"{output_name}\", \"wb\") as file_out:\n",
    "        file_out.write(etree.tostring(osm, xml_declaration=True, encoding=\"UTF-8\", pretty_print=True))"
   ]
  },
  {
   "cell_type": "markdown",
   "metadata": {},
   "source": [
    "## 6. SUMO to CommonRoad"
   ]
  },
  {
   "cell_type": "code",
   "execution_count": 9,
   "metadata": {
    "pycharm": {
     "name": "#%%\n"
    },
    "ExecuteTime": {
     "end_time": "2023-11-15T08:08:15.048414Z",
     "start_time": "2023-11-15T08:08:15.043958Z"
    }
   },
   "outputs": [],
   "source": [
    "input_file = \"\"  # replace empty string"
   ]
  },
  {
   "cell_type": "markdown",
   "metadata": {},
   "source": [
    "### General API\n"
   ]
  },
  {
   "cell_type": "code",
   "execution_count": null,
   "metadata": {
    "pycharm": {
     "name": "#%%\n"
    }
   },
   "outputs": [],
   "source": [
    "from crdesigner.map_conversion.map_conversion_interface import sumo_to_commonroad\n",
    "\n",
    "# load SUMO net file, parse it, and convert it to a CommonRoad map\n",
    "scenario = sumo_to_commonroad(input_file)\n",
    "\n",
    "# store converted file as CommonRoad scenario\n",
    "writer = CommonRoadFileWriter(\n",
    "    scenario=scenario,\n",
    "    planning_problem_set=PlanningProblemSet(),\n",
    "    author=\"Sebastian Maierhofer\",\n",
    "    affiliation=\"Technical University of Munich\",\n",
    "    source=\"CommonRoad Scenario Designer\",\n",
    "    tags={Tag.URBAN},\n",
    ")\n",
    "writer.write_to_file(os.path.dirname(os.path.realpath(__file__)) + \"/\" + \"ZAM_SUMO-1_1-T1.xml\",\n",
    "                     OverwriteExistingFile.ALWAYS)"
   ]
  },
  {
   "cell_type": "markdown",
   "metadata": {
    "pycharm": {
     "name": "#%% md\n"
    }
   },
   "source": [
    "### SUMO conversion APIs\n"
   ]
  },
  {
   "cell_type": "code",
   "execution_count": null,
   "metadata": {
    "pycharm": {
     "name": "#%%\n"
    }
   },
   "outputs": [],
   "source": [
    "from crdesigner.ui.gui.mwindow.animated_viewer_wrapper.gui_sumo_simulation import SUMO_AVAILABLE\n",
    "if SUMO_AVAILABLE:\n",
    "    from crdesigner.map_conversion.sumo_map.sumo2cr import convert_net_to_cr\n",
    "\n",
    "# load SUMO net file, parse it, and convert it to a CommonRoad map\n",
    "scenario = convert_net_to_cr(input_file)\n",
    "\n",
    "# store converted file as CommonRoad scenario\n",
    "writer = CommonRoadFileWriter(\n",
    "    scenario=scenario,\n",
    "    planning_problem_set=PlanningProblemSet(),\n",
    "    author=\"Sebastian Maierhofer\",\n",
    "    affiliation=\"Technical University of Munich\",\n",
    "    source=\"CommonRoad Scenario Designer\",\n",
    "    tags={Tag.URBAN},\n",
    ")\n",
    "writer.write_to_file(os.path.dirname(os.path.realpath(__file__)) + \"/\" + \"ZAM_SUMO-1_1-T1.xml\",\n",
    "                     OverwriteExistingFile.ALWAYS)"
   ]
  },
  {
   "cell_type": "markdown",
   "metadata": {},
   "source": [
    "## 7. CommonRoad to SUMO"
   ]
  },
  {
   "cell_type": "code",
   "execution_count": null,
   "metadata": {
    "pycharm": {
     "name": "#%%\n"
    }
   },
   "outputs": [],
   "source": [
    "output_folder = \"\"  # replace empty string\n",
    "scenario_name = \"\"  # replace empty string\n",
    "input_file = os.path.join(output_folder, scenario_name + '.xml')\n",
    "scenario, planning_problem = CommonRoadFileReader(input_file).open()"
   ]
  },
  {
   "cell_type": "markdown",
   "metadata": {},
   "source": [
    "### General API"
   ]
  },
  {
   "cell_type": "code",
   "execution_count": null,
   "metadata": {
    "pycharm": {
     "name": "#%%\n"
    }
   },
   "outputs": [],
   "source": [
    "from crdesigner.map_conversion.map_conversion_interface import commonroad_to_sumo\n",
    "\n",
    "commonroad_to_sumo(input_file, output_folder)"
   ]
  },
  {
   "cell_type": "markdown",
   "metadata": {},
   "source": [
    "### SUMO conversion APIs\n"
   ]
  },
  {
   "cell_type": "code",
   "execution_count": null,
   "metadata": {
    "pycharm": {
     "name": "#%%\n"
    }
   },
   "outputs": [],
   "source": [
    "import uuid\n",
    "from crdesigner.ui.gui.mwindow.animated_viewer_wrapper.gui_sumo_simulation import SUMO_AVAILABLE\n",
    "if SUMO_AVAILABLE:\n",
    "    from crdesigner.map_conversion.sumo_map.config import SumoConfig\n",
    "    from crdesigner.map_conversion.sumo_map.cr2sumo.converter import CR2SumoMapConverter\n",
    "\n",
    "try:\n",
    "    commonroad_reader = CommonRoadFileReader(input_file)\n",
    "    scenario, _ = commonroad_reader.open()\n",
    "except etree.XMLSyntaxError as xml_error:\n",
    "    print(f\"SyntaxError: {xml_error}\")\n",
    "    print(\n",
    "        \"There was an error during the loading of the selected CommonRoad file.\\n\")\n",
    "\n",
    "if SUMO_AVAILABLE:\n",
    "    config = SumoConfig.from_scenario_name(str(uuid.uuid4()))\n",
    "    config.scenario_name = scenario_name\n",
    "    converter = CR2SumoMapConverter(scenario, config)\n",
    "    converter.create_sumo_files(output_folder)"
   ]
  },
  {
   "cell_type": "markdown",
   "metadata": {},
   "source": [
    "### SUMO conversion APIs with Traffic Simulation and Video Creation"
   ]
  },
  {
   "cell_type": "code",
   "execution_count": null,
   "metadata": {
    "pycharm": {
     "name": "#%%\n"
    }
   },
   "outputs": [],
   "source": [
    "from commonroad.visualization.mp_renderer import MPRenderer\n",
    "import numpy as np\n",
    "from crdesigner.ui.gui.mwindow.animated_viewer_wrapper.gui_sumo_simulation import SUMO_AVAILABLE\n",
    "if SUMO_AVAILABLE:\n",
    "    from crdesigner.map_conversion.sumo_map.config import SumoConfig\n",
    "    from crdesigner.map_conversion.sumo_map.cr2sumo.converter import CR2SumoMapConverter\n",
    "    from sumocr.interface.sumo_simulation import SumoSimulation\n",
    "    from sumocr.visualization.video import create_video\n",
    "\n",
    "# translate scenario to center\n",
    "centroid = np.mean(np.concatenate(\n",
    "    [la.center_vertices for la in scenario.lanelet_network.lanelets]),\n",
    "    axis=0)\n",
    "scenario.translate_rotate(-centroid, 0)\n",
    "planning_problem.translate_rotate(-centroid, 0)\n",
    "\n",
    "config = SumoConfig.from_scenario_name(scenario_name)\n",
    "\n",
    "# convert CR to sumo net\n",
    "wrapper = CR2SumoMapConverter(scenario.lanelet_network, config)\n",
    "wrapper.convert_to_net_file(output_folder)\n",
    "tls_lanelet_id = 43513\n",
    "traffic_light_system_generated = wrapper.auto_generate_traffic_light_system(tls_lanelet_id)\n",
    "\n",
    "print(f\"Generated Traffic Light System at {tls_lanelet_id}, {traffic_light_system_generated}\")\n",
    "\n",
    "# draw scenario after traffic light generation\n",
    "rnd = MPRenderer()\n",
    "wrapper.lanelet_network.draw(rnd)\n",
    "rnd.render(show=True)\n",
    "\n",
    "# write generated traffic lights back to commonroad file\n",
    "scenario.lanelet_network = wrapper.lanelet_network\n",
    "\n",
    "# run Simulation\n",
    "simulation = SumoSimulation()\n",
    "simulation.initialize(config, wrapper)\n",
    "\n",
    "for t in range(config.simulation_steps):\n",
    "    simulation.simulate_step()\n",
    "\n",
    "simulation.stop()\n",
    "\n",
    "# save resulting scenario\n",
    "simulated_scenario = simulation.commonroad_scenarios_all_time_steps()\n",
    "CommonRoadFileWriter(simulated_scenario,\n",
    "                     planning_problem,\n",
    "                     author=scenario.author,\n",
    "                     affiliation=scenario.affiliation,\n",
    "                     source=scenario.source,\n",
    "                     tags=scenario.tags,\n",
    "                     location=scenario.location).write_scenario_to_file(\n",
    "    os.path.join(output_folder,\n",
    "                 config.scenario_name + \".simulated.xml\"),\n",
    "    overwrite_existing_file=OverwriteExistingFile.ALWAYS)\n",
    "\n",
    "print(\"creating video (this may take some time)\")\n",
    "create_video(simulation.commonroad_scenarios_all_time_steps(),\n",
    "             output_folder, trajectory_pred=simulation.ego_vehicles)"
   ]
  }
 ],
 "metadata": {
  "kernelspec": {
   "name": "python3",
   "language": "python",
   "display_name": "Python 3 (ipykernel)"
  },
  "language_info": {
   "codemirror_mode": {
    "name": "ipython",
    "version": 3
   },
   "file_extension": ".py",
   "mimetype": "text/x-python",
   "name": "python",
   "nbconvert_exporter": "python",
   "pygments_lexer": "ipython3",
   "version": "3.9.7"
  }
 },
 "nbformat": 4,
 "nbformat_minor": 1
}
